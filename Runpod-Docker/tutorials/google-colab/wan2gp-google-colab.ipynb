{
  "cells": [
    {
      "cell_type": "markdown",
      "metadata": {},
      "source": [
        "# Wan2GP on Google Colab\n",
        "\n",
        "Set up [Wan2GP](https://github.com/deepbeepmeep/Wan2GP) in a fresh GPU-backed Colab session. Run the cells in order to prepare the runtime, install dependencies, and launch the Gradio interface.\n"
      ]
    },
    {
      "cell_type": "markdown",
      "metadata": {},
      "source": [
        "## 1. Confirm the accelerator\n",
        "\n",
        "Choose `Runtime \u2192 Change runtime type` and select **GPU** before running anything else.\n",
        "\n",
        "If this cell raises an error, go back to `Runtime \u2192 Change runtime type`, pick **GPU** or **TPU** and save.\n"
      ]
    },
    {
      "cell_type": "code",
      "metadata": {},
      "execution_count": null,
      "outputs": [],
      "source": [
        "import subprocess\n",
        "\n",
        "try:\n",
        "    subprocess.run(['nvidia-smi'], check=True)\n",
        "except Exception as exc:\n",
        "    raise RuntimeError(\n",
        "        'GPU not detected. In Colab, open Runtime \u2192 Change runtime type, select GPU (or TPU if GPUs are unavailable), save, then rerun this cell.'\n",
        "    ) from exc\n"
      ]
    },
    {
      "cell_type": "markdown",
      "metadata": {},
      "source": [
        "## 2. Configure the workspace path\n",
        "\n",
        "Choose where Wan2GP should be installed. Update `WAN2GP_ROOT` if you prefer a different location.\n"
      ]
    },
    {
      "cell_type": "code",
      "metadata": {},
      "execution_count": null,
      "outputs": [],
      "source": [
        "from pathlib import Path\n",
        "\n",
        "WAN2GP_ROOT = Path('/content/Wan2GP').resolve()\n",
        "print(f'Wan2GP will be installed to: {WAN2GP_ROOT}')\n"
      ]
    },
    {
      "cell_type": "markdown",
      "metadata": {},
      "source": [
        "## 3. Download or update Wan2GP\n",
        "\n",
        "Clone the repository if it is not present yet; otherwise pull the latest changes.\n"
      ]
    },
    {
      "cell_type": "code",
      "metadata": {},
      "execution_count": null,
      "outputs": [],
      "source": [
        "import subprocess\n",
        "\n",
        "repo_url = 'https://github.com/deepbeepmeep/Wan2GP.git'\n",
        "if WAN2GP_ROOT.exists():\n",
        "    print('Repository already exists. Pulling latest changes...')\n",
        "    subprocess.run(['git', '-C', str(WAN2GP_ROOT), 'pull'], check=True)\n",
        "else:\n",
        "    subprocess.run(['git', 'clone', repo_url, str(WAN2GP_ROOT)], check=True)\n"
      ]
    },
    {
      "cell_type": "markdown",
      "metadata": {},
      "source": [
        "## 4. Install system dependencies\n\nInstall shared libraries needed for video and audio processing. If you see a warning about skipping an extra repository (for example `r2u.stat.illinois.edu`), it is safe to ignore."
      ]
    },
    {
      "cell_type": "code",
      "metadata": {},
      "execution_count": null,
      "outputs": [],
      "source": [
        "import os, subprocess\n",
        "\n",
        "env = os.environ.copy()\n",
        "env['DEBIAN_FRONTEND'] = 'noninteractive'\n",
        "\n",
        "subprocess.run(['sudo', 'apt-get', 'update', '-qq'], check=True, env=env)\n",
        "subprocess.run([\n",
        "    'sudo', 'apt-get', 'install', '-y', '--no-install-recommends',\n",
        "    'ffmpeg', 'libglib2.0-0', 'libgl1', 'libportaudio2'\n",
        "], check=True, env=env)\n"
      ]
    },
    {
      "cell_type": "markdown",
      "metadata": {},
      "source": [
        "## 5. Install Python dependencies\n\nInstall PyTorch and Wan2GP's Python packages. Colab's GPU runtimes currently ship with CUDA 12.1 drivers, so the commands below pull the matching PyTorch wheels; adjust only if Google upgrades the runtime.\n"
      ]
    },
    {
      "cell_type": "code",
      "metadata": {},
      "execution_count": null,
      "outputs": [],
      "source": [
        "import os, subprocess, sys\n",
        "\n",
        "env = os.environ.copy()\n",
        "env.setdefault('DEBIAN_FRONTEND', 'noninteractive')\n",
        "\n",
        "subprocess.run([sys.executable, '-m', 'pip', 'install', '--upgrade', 'pip', 'setuptools', 'wheel'], check=True, env=env)\n",
        "subprocess.run([sys.executable, '-m', 'pip', 'install', 'torch==2.8.0', 'torchvision', 'torchaudio', '--index-url', 'https://download.pytorch.org/whl/cu121'], check=True, env=env)\n",
        "subprocess.run([sys.executable, '-m', 'pip', 'install', '-r', str(WAN2GP_ROOT / 'requirements.txt')], check=True, env=env)\n",
        "subprocess.run([sys.executable, '-m', 'pip', 'install', 'gradio==5.35.0', 'sageattention==1.0.6'], check=True, env=env)\n"
      ]
    },
    {
      "cell_type": "markdown",
      "metadata": {},
      "source": [
        "## 6. Launch Wan2GP\n",
        "\n",
        "Run the Gradio interface. The first launch downloads large model files, so expect a long wait. Keep the cell running to stay connected; stop it with the square **Stop** button when you are finished. Try `--profile 5` if you see GPU memory errors.\n"
      ]
    },
    {
      "cell_type": "code",
      "metadata": {},
      "execution_count": null,
      "outputs": [],
      "source": [
        "import os, subprocess, sys\n",
        "\n",
        "env = os.environ.copy()\n",
        "env.setdefault('WAN_CACHE_DIR', str(WAN2GP_ROOT / 'models'))\n",
        "cmd = [\n",
        "    sys.executable,\n",
        "    '-u',\n",
        "    'wgp.py',\n",
        "    '--listen',\n",
        "    '--server-port', '7860',\n",
        "    '--share',\n",
        "    '--profile', '4',\n",
        "]\n",
        "print('Launching Wan2GP\u2026')\n",
        "process = subprocess.Popen(\n",
        "    cmd,\n",
        "    cwd=str(WAN2GP_ROOT),\n",
        "    env=env,\n",
        "    stdout=subprocess.PIPE,\n",
        "    stderr=subprocess.STDOUT,\n",
        "    text=True,\n",
        "    bufsize=1,\n",
        ")\n",
        "try:\n",
        "    for line in process.stdout:\n",
        "        print(line, end='')\n",
        "except KeyboardInterrupt:\n",
        "    print('Stopping Wan2GP\u2026')\n",
        "    process.terminate()\n",
        "finally:\n",
        "    process.wait()\n"
      ]
    }
  ],
  "metadata": {
    "kernelspec": {
      "display_name": "Python 3",
      "language": "python",
      "name": "python3"
    },
    "language_info": {
      "name": "python",
      "version": "3.10"
    },
    "colab": {
      "name": "Wan2GP on Colab",
      "provenance": []
    },
    "accelerator": "GPU"
  },
  "nbformat": 4,
  "nbformat_minor": 5
}